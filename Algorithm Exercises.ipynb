{
 "cells": [
  {
   "cell_type": "markdown",
   "metadata": {},
   "source": [
    "# Exercises from The Algorithm Design Manual, by Steven Skiena"
   ]
  },
  {
   "cell_type": "markdown",
   "metadata": {},
   "source": [
    "## Chapter 1: Introduction to Algorithm Design"
   ]
  },
  {
   "cell_type": "markdown",
   "metadata": {},
   "source": [
    "## Finding Counterexamples"
   ]
  },
  {
   "cell_type": "markdown",
   "metadata": {},
   "source": [
    "### 1.1 [3]\n",
    "\n",
    "Show that $a + b$ can be less than $\\min{(a, b)}$.\n",
    "\n",
    "*Solution:*"
   ]
  },
  {
   "cell_type": "markdown",
   "metadata": {},
   "source": [
    "### 1.2 [3]\n",
    "\n",
    "Show that $a \\times b$ can be less than $\\min{(a, b)}$.\n",
    "\n",
    "*Solution:*"
   ]
  },
  {
   "cell_type": "markdown",
   "metadata": {},
   "source": [
    "### 1.3 [5]\n",
    "\n",
    "Design / draw a road network with two points a and b such that the shortest\n",
    "route between a and b is not the route with the fewest turns.\n",
    "\n",
    "*Solution:*"
   ]
  },
  {
   "cell_type": "markdown",
   "metadata": {},
   "source": [
    "### 1.4 [5]\n",
    "\n",
    "Design / draw a road network with two points a and b such that the shortest\n",
    "route between a and b is not the route with the fewest turns.\n",
    "\n",
    "*Solution:*"
   ]
  },
  {
   "cell_type": "markdown",
   "metadata": {},
   "source": [
    "### 1.5 [4]\n",
    "\n",
    "The knapsack problem is as follows: given a set of integers $S = \\{s_1, s_2, . . . , s_n\\}$,\n",
    "and a target number $T$, find a subset of $S$ which adds up exactly to $T$. For example,\n",
    "there exists a subset within $S = \\{1, 2, 5, 9, 10\\}$ that adds up to $T = 22$ but not\n",
    "$T = 23$.\n",
    "\n",
    "Find counterexamples to each of the following algorithms for the knapsack problem.\n",
    "That is, giving an $S$ and $T$ such that the subset is selected using the algorithm does\n",
    "not leave the knapsack completely full, even though such a solution exists.\n",
    "\n",
    "1. Put the elements of $S$ in the knapsack in left to right order if they fit, i.e. the\n",
    "first-fit algorithm.\n",
    "\n",
    "2.  Put the elements of $S$ in the knapsack from smallest to largest, i.e. the best-fit\n",
    "algorithm.\n",
    "\n",
    "3.  Put the elements of $S$ in the knapsack from largest to smallest.\n",
    "\n",
    "*Solution:*"
   ]
  },
  {
   "cell_type": "markdown",
   "metadata": {},
   "source": [
    "### 1.6 [5]\n",
    "\n",
    "The *set cover problem* is as follows: given a set of subsets $S_1, ..., S_m$ of the\n",
    "universal set $U = \\{1, ..., n\\}$, find the smallest subset of subsets $T \\subset S$ such that\n",
    "$\\cup_{t_{i}\\in T}t_i = U$. For example, there are the following subsets, $S_1 = \\{1, 3, 5\\}$, $S_2 =\n",
    "\\{2, 4\\}$, $S_3 = \\{1, 4\\}$, and $S_4 = \\{2, 5\\}$ The set cover would then be $S_1$ and $S_2$.\n",
    "Find a counterexample for the following algorithm: Select the largest subset for the\n",
    "cover, and then delete all its elements from the universal set. Repeat by adding the\n",
    "subset containing the largest number of uncovered elements until all are covered.\n",
    "\n",
    "*Solution:*"
   ]
  },
  {
   "cell_type": "markdown",
   "metadata": {},
   "source": [
    "***"
   ]
  },
  {
   "cell_type": "markdown",
   "metadata": {},
   "source": [
    "## Proofs of Correctness"
   ]
  },
  {
   "cell_type": "markdown",
   "metadata": {},
   "source": [
    "### 1.7 [3]\n",
    "\n",
    "Prove the correctness of the following recursive algorithm to multiply two\n",
    "natural numbers, for all integer constants $c \\geq 2$.\n",
    "\n",
    "\n",
    "\n",
    ">$function \\text{ multiply}\\,(y, \\, z)$  \n",
    "$comment \\text{ Return the product } yz.$  \n",
    "$\\hspace{2em} if \\>  z = 0 \\>  then  \\text{ return}\\,(0) \\> else$  \n",
    "$\\hspace{2em} \\text{return (multiply}\\,(cy, \\lfloor z/c\\rfloor) + y \\cdot (z\\bmod c))$\n",
    "\n",
    "*Solution:*"
   ]
  },
  {
   "cell_type": "markdown",
   "metadata": {},
   "source": [
    "### 1.8 [3]\n",
    "\n",
    "Prove the correctness of the following algorithm for evaluating a polynomial.\n",
    "\n",
    ">$\\text{P(x)} = a_nx^n + a_{n-1}x^{n-1} + \\ldots + a_1x + a_0$  \n",
    "$\\hspace{2em} function \\> \\text{horner}(\\,A,\\,x)$   \n",
    "$\\hspace{4em} p = A_n$  \n",
    "$\\hspace{4em} \\text{for } i \\text{ from } n - 1 \\text{ to } 0$  \n",
    "$\\hspace{6em} p = p * x + A_i$  \n",
    "$\\hspace{4em} \\text{return } p$  "
   ]
  },
  {
   "cell_type": "markdown",
   "metadata": {},
   "source": [
    "### 1.9 [3]\n",
    "\n",
    "Prove the correctness of the following sorting algorithm.\n",
    "\n",
    ">$function \\text{ bubblesort } (\\,A : \\text{list}[1\\ldots n])$  \n",
    "$\\hspace{2em} \\text{var int } i,\\, j$  \n",
    "$\\hspace{2em} \\text{for } i \\text{ from } n \\text{ to } 1$  \n",
    "$\\hspace{4em} \\text{for } j \\text{ from } 1 \\text{ to }  i - 1$  \n",
    "$\\hspace{6em} \\text{if } (\\,A[j] > A[j + 1])$  \n",
    "$\\hspace{8em} \\text{swap the values of } A[j] \\text{ and } A[j + 1]$"
   ]
  },
  {
   "cell_type": "markdown",
   "metadata": {},
   "source": [
    "***"
   ]
  },
  {
   "cell_type": "markdown",
   "metadata": {},
   "source": [
    "## Induction"
   ]
  },
  {
   "cell_type": "markdown",
   "metadata": {},
   "source": [
    "### 1.10 [3]\n",
    "\n",
    "Prove that $\\sum_{i=1}^{n}i = n(n+1) \\,/\\, 2 \\text{ for } n \\geq 0, \\text{by induction.}$"
   ]
  },
  {
   "cell_type": "code",
   "execution_count": null,
   "metadata": {
    "collapsed": true
   },
   "outputs": [],
   "source": []
  }
 ],
 "metadata": {
  "kernelspec": {
   "display_name": "Python 3",
   "language": "python",
   "name": "python3"
  },
  "language_info": {
   "codemirror_mode": {
    "name": "ipython",
    "version": 3
   },
   "file_extension": ".py",
   "mimetype": "text/x-python",
   "name": "python",
   "nbconvert_exporter": "python",
   "pygments_lexer": "ipython3",
   "version": "3.5.1"
  }
 },
 "nbformat": 4,
 "nbformat_minor": 0
}
