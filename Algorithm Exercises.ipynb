{
 "cells": [
  {
   "cell_type": "markdown",
   "metadata": {},
   "source": [
    "# Exercises from The Algorithm Design Manual, by Steven Skiena"
   ]
  },
  {
   "cell_type": "markdown",
   "metadata": {},
   "source": [
    "## Chapter 1: Introduction to Algorithm Design"
   ]
  },
  {
   "cell_type": "markdown",
   "metadata": {},
   "source": [
    "## Finding Counterexamples"
   ]
  },
  {
   "cell_type": "markdown",
   "metadata": {},
   "source": [
    "### 1.1 [3]\n",
    "\n",
    "Show that $a + b$ can be less than $\\min{(a, b)}$.\n",
    "\n",
    "*Solution:*  \n",
    "Let $a = -1$ and $b = -1.$  \n",
    "Then $a + b = (-1) + (-1) = -2.$  \n",
    "But $\\min{(a,b)} = \\min{(-1, -1)} = -1.$  \n",
    "Since $-2 < -1$, we have shown that  $a + b < \\min{(a, b)}.$"
   ]
  },
  {
   "cell_type": "markdown",
   "metadata": {},
   "source": [
    "### 1.2 [3]\n",
    "\n",
    "Show that $a \\times b$ can be less than $\\min{(a, b)}$.\n",
    "\n",
    "*Solution:*  \n",
    "Let $a = 5$ and $b = -1.$  \n",
    "Then $a \\times b = 5 \\times -1 = -5.$  \n",
    "But $\\min{a,b} = \\min{5,-1} = -1.$  \n",
    "Since $-5 < -1$, we have shown that $a \\times b < \\min{(a,b)}.$"
   ]
  },
  {
   "cell_type": "markdown",
   "metadata": {},
   "source": [
    "### 1.3 [5]\n",
    "\n",
    "Design / draw a road network with two points $a$ and $b$ such that the fastest route\n",
    "between $a$ and $b$ is not the shortest route.\n",
    "\n",
    "*Solution:*  \n",
    "This can only happen if the time taken to travel a road depends on more than just its length. For example, roads often have speed limits. Therefore suppose there are 2 roads connecting $a$ and $b$, one of which is 1 mile long but has a speed limit of 1 mile per hour, and another that is 2 miles long but has a speed limit of 4 miles per hour. The second road is twice as long but will take half the time to traverse."
   ]
  },
  {
   "cell_type": "markdown",
   "metadata": {},
   "source": [
    "### 1.4 [5]\n",
    "\n",
    "Design / draw a road network with two points $a$ and $b$ such that the shortest\n",
    "route between $a$ and $b$ is not the route with the fewest turns.\n",
    "\n",
    "*Solution:*  \n",
    "Suppose $a = (0,0)$ and $b = (10,0)$.  \n",
    "Let Route 1 go up to (0,100), right to (10,100), and back down to (0,10).\n",
    "So Route 1 has length 210 and has 3 turns (assuming you were originally facing right).\n",
    "Let Route 2 go up to (0,1), right to (1,1), down to (1, -1), right to (2,-1), up to (2,0), and right to (10,0).\n",
    "So Route 2 has length 14 and has 6 turns.\n",
    "Therefore Route 2 is shorter, but has more turns than Route 1."
   ]
  },
  {
   "cell_type": "markdown",
   "metadata": {},
   "source": [
    "### 1.5 [4]\n",
    "\n",
    "The *knapsack problem* is as follows: given a set of integers $S = \\{s_1, s_2, . . . , s_n\\}$,\n",
    "and a target number $T$, find a subset of $S$ which adds up exactly to $T$. For example,\n",
    "there exists a subset within $S = \\{1, 2, 5, 9, 10\\}$ that adds up to $T = 22$ but not\n",
    "$T = 23$.\n",
    "\n",
    "Find counterexamples to each of the following algorithms for the knapsack problem.\n",
    "That is, giving an $S$ and $T$ such that the subset selected using the algorithm does\n",
    "not leave the knapsack completely full, even though such a solution exists.\n",
    "\n",
    "1. Put the elements of $S$ in the knapsack in left to right order if they fit, i.e. the\n",
    "first-fit algorithm.\n",
    "\n",
    "2.  Put the elements of $S$ in the knapsack from smallest to largest, i.e. the best-fit\n",
    "algorithm.\n",
    "\n",
    "3.  Put the elements of $S$ in the knapsack from largest to smallest.\n",
    "\n",
    "*Solution:*  \n",
    "**(1)**:  \n",
    "Let $S = \\{1, 2, 5, 9, 10\\}$ and $T = 22$.  \n",
    "If I understand the algorithm correctly, it will continue adding elements left to right until no more can fit. In this case it will put the elements $\\{1, 2, 5, 9\\}$ into the bag for a total of 17, while the set $\\{1, 2, 9, 10\\}$ would have correctly given $T = 22$. Therefore the algorithm is incorrect.\n",
    "\n",
    "**(2)**:  \n",
    "Same as the previous part, let $S = \\{1, 2, 5, 9, 10\\}$ and $T = 22$.  \n",
    "And just like the previous part, the algorithm will place the elements $\\{1, 2, 5, 9\\}$ into the bag for a total of 17, while the set $\\{1, 2, 9, 10\\}$ would have correctly given $T = 22$. Therefore the algorithm is incorrect.\n",
    "\n",
    "**(3)**:  \n",
    "Same as the previous part, let $S = \\{1, 2, 5, 9, 10\\}$ and $T = 22$.  \n",
    "In this case the algorithm will place the subset $\\{10, 9\\}$ into the bag for a total of 19, even though the set $\\{1, 2, 9, 10\\}$ would have correctly given $T = 22$. Therefore the algorithm is incorrect."
   ]
  },
  {
   "cell_type": "markdown",
   "metadata": {},
   "source": [
    "### 1.6 [5]\n",
    "\n",
    "The *set cover problem* is as follows: given a set of subsets $S = S_1, ..., S_m$ of the\n",
    "universal set $U = \\{1, ..., n\\}$, find the smallest subset of subsets $T \\subset S$ such that\n",
    "$\\cup_{t_{i}\\in T}t_i = U$. For example, there are the following subsets, $S_1 = \\{1, 3, 5\\}$, $S_2 =\n",
    "\\{2, 4\\}$, $S_3 = \\{1, 4\\}$, and $S_4 = \\{2, 5\\}$ The set cover would then be $S_1$ and $S_2$.\n",
    "\n",
    "\n",
    "Find a counterexample for the following algorithm:\n",
    "\n",
    ">$\\text{Select the largest subset for the cover,}$  \n",
    "$\\text{and then delete all its elements from the universal set.}$  \n",
    "$\\text{Repeat by adding the subset containing the largest number of uncovered elements until all are covered.}$\n",
    "\n",
    "*Solution:*  \n",
    "Let $U = \\{1, \\ldots , 10\\}$.  \n",
    "Let $S_1 = \\{1, \\ldots 8\\}$, $S_2 = \\{9\\}$, $S_3 = \\{10\\}$, $S_4 = \\{4, \\ldots 10\\}$, and $S_5 = \\{1, 2, 3\\}$.  \n",
    "$S_1$ is the largest set, so the algorithm will first pick $S_1$, and then delete those elements from $U$, leaving $U = \\{1, 2\\}$. Neither $S_4$ nor $S_5$ contain elements in $U$, so they will be ignored and $S_2$ and $S_3$ will successively be picked, resulting in the covering $T = \\{S_1, S_2, S_3\\}$ with 3 subsets.  \n",
    "However, $T = \\{S_4, S_5\\}$ would also cover $U$, but with 2 subsets.  \n",
    "Therefore the algorithm failed to select the correct output, and so is incorrect."
   ]
  },
  {
   "cell_type": "markdown",
   "metadata": {},
   "source": [
    "***"
   ]
  },
  {
   "cell_type": "markdown",
   "metadata": {},
   "source": [
    "## Proofs of Correctness"
   ]
  },
  {
   "cell_type": "markdown",
   "metadata": {},
   "source": [
    "### 1.7 [3]\n",
    "\n",
    "Prove the correctness of the following recursive algorithm to multiply two\n",
    "natural numbers, for all integer constants $c \\geq 2$.\n",
    "\n",
    "$\\hspace{2em} function \\text{ multiply}\\,(y, \\, z)$  \n",
    "$\\hspace{2em} comment \\text{ Return the product } yz.$  \n",
    "$\\hspace{4em} if \\>  z = 0 \\>  then  \\text{ return}\\,(0) \\> else$  \n",
    "$\\hspace{4em} \\text{return (multiply}\\,(cy, \\lfloor z/c\\rfloor) + y \\cdot (z\\bmod c))$\n",
    "\n",
    "*Solution:*"
   ]
  },
  {
   "cell_type": "markdown",
   "metadata": {},
   "source": [
    "### 1.8 [3]\n",
    "\n",
    "Prove the correctness of the following algorithm for evaluating a polynomial.\n",
    "\n",
    "$\\hspace{2em} \\text{P(x)} = a_nx^n + a_{n-1}x^{n-1} + \\ldots + a_1x + a_0$  \n",
    "$\\hspace{4em} function \\> \\text{horner}(\\,A,\\,x)$   \n",
    "$\\hspace{6em} p = A_n$  \n",
    "$\\hspace{6em} \\text{for } i \\text{ from } n - 1 \\text{ to } 0$  \n",
    "$\\hspace{8em} p = p * x + A_i$  \n",
    "$\\hspace{6em} \\text{return } p$  \n",
    "\n",
    "*Solution:*"
   ]
  },
  {
   "cell_type": "markdown",
   "metadata": {},
   "source": [
    "### 1.9 [3]\n",
    "\n",
    "Prove the correctness of the following sorting algorithm.\n",
    "\n",
    "$\\hspace{2em} function \\text{ bubblesort } (\\,A : \\text{list}[1\\ldots n])$  \n",
    "$\\hspace{4em} \\text{var int } i,\\, j$  \n",
    "$\\hspace{4em} \\text{for } i \\text{ from } n \\text{ to } 1$  \n",
    "$\\hspace{6em} \\text{for } j \\text{ from } 1 \\text{ to }  i - 1$  \n",
    "$\\hspace{8em} \\text{if } (\\,A[j] > A[j + 1])$  \n",
    "$\\hspace{10em} \\text{swap the values of } A[j] \\text{ and } A[j + 1]$\n",
    "\n",
    "*Solution:*"
   ]
  },
  {
   "cell_type": "markdown",
   "metadata": {},
   "source": [
    "***"
   ]
  },
  {
   "cell_type": "markdown",
   "metadata": {},
   "source": [
    "## Induction"
   ]
  },
  {
   "cell_type": "markdown",
   "metadata": {},
   "source": [
    "### 1.10 [3]\n",
    "\n",
    "Prove that $\\sum_{i=1}^{n}i = n(n+1) \\,/\\, 2 \\text{ for } n \\geq 0, \\text{by induction.}$\n",
    "\n",
    "*Solution:*"
   ]
  },
  {
   "cell_type": "code",
   "execution_count": null,
   "metadata": {
    "collapsed": true
   },
   "outputs": [],
   "source": []
  }
 ],
 "metadata": {
  "kernelspec": {
   "display_name": "Python 3",
   "language": "python",
   "name": "python3"
  },
  "language_info": {
   "codemirror_mode": {
    "name": "ipython",
    "version": 3
   },
   "file_extension": ".py",
   "mimetype": "text/x-python",
   "name": "python",
   "nbconvert_exporter": "python",
   "pygments_lexer": "ipython3",
   "version": "3.5.1"
  }
 },
 "nbformat": 4,
 "nbformat_minor": 0
}
