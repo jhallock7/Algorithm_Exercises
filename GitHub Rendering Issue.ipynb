{
 "cells": [
  {
   "cell_type": "markdown",
   "metadata": {},
   "source": [
    "Some text that is *italicized $j$*..."
   ]
  },
  {
   "cell_type": "markdown",
   "metadata": {},
   "source": [
    "or **bold $j$**."
   ]
  },
  {
   "cell_type": "markdown",
   "metadata": {},
   "source": [
    "$i < n$."
   ]
  },
  {
   "cell_type": "code",
   "execution_count": 1,
   "metadata": {
    "collapsed": true
   },
   "outputs": [],
   "source": [
    "#Now some code that includes a dollar sign\n",
    "\n",
    "# $"
   ]
  },
  {
   "cell_type": "markdown",
   "metadata": {},
   "source": [
    "Some text that is *italicized $j$*..."
   ]
  },
  {
   "cell_type": "markdown",
   "metadata": {},
   "source": [
    "or **bold $j$**."
   ]
  },
  {
   "cell_type": "markdown",
   "metadata": {},
   "source": [
    "$i < n$."
   ]
  },
  {
   "cell_type": "code",
   "execution_count": 2,
   "metadata": {
    "collapsed": true
   },
   "outputs": [],
   "source": [
    "#Now another dollar sign\n",
    "\n",
    "# $"
   ]
  },
  {
   "cell_type": "markdown",
   "metadata": {},
   "source": [
    "Some text that is *italicized $j$*..."
   ]
  },
  {
   "cell_type": "markdown",
   "metadata": {},
   "source": [
    "or **bold $j$**."
   ]
  },
  {
   "cell_type": "markdown",
   "metadata": {},
   "source": [
    "$i < n$."
   ]
  },
  {
   "cell_type": "code",
   "execution_count": 1,
   "metadata": {
    "collapsed": true
   },
   "outputs": [],
   "source": [
    "# Repeat SAME computation on $100.31 dollars "
   ]
  },
  {
   "cell_type": "markdown",
   "metadata": {},
   "source": [
    "Suppose we isolate a left portion of the set $A$ between positions $0$ and some $j$ < $n$. Furthermore, suppose we knew the maximum possible sum of a contiguous set of numbers *ending on position $j$*."
   ]
  },
  {
   "cell_type": "code",
   "execution_count": null,
   "metadata": {
    "collapsed": true
   },
   "outputs": [],
   "source": []
  }
 ],
 "metadata": {
  "kernelspec": {
   "display_name": "Python 3",
   "language": "python",
   "name": "python3"
  },
  "language_info": {
   "codemirror_mode": {
    "name": "ipython",
    "version": 3
   },
   "file_extension": ".py",
   "mimetype": "text/x-python",
   "name": "python",
   "nbconvert_exporter": "python",
   "pygments_lexer": "ipython3",
   "version": "3.5.1"
  }
 },
 "nbformat": 4,
 "nbformat_minor": 0
}
