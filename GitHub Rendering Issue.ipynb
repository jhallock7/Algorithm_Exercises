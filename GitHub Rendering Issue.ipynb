{
 "cells": [
  {
   "cell_type": "markdown",
   "metadata": {},
   "source": [
    "Some text that is *italicized $j$*..."
   ]
  },
  {
   "cell_type": "markdown",
   "metadata": {},
   "source": [
    "or **bold $j$**."
   ]
  },
  {
   "cell_type": "markdown",
   "metadata": {},
   "source": [
    "$i < n$."
   ]
  },
  {
   "cell_type": "markdown",
   "metadata": {},
   "source": [
    "Suppose we isolate a left portion of the set $A$ between positions $0$ and some $j$ < $n$. Furthermore, suppose we knew the maximum possible sum of a contiguous set of numbers *ending on position $j$*. We can denote this as $C[j]$. And now we want to know what is the largest possible sum of contiguous numbers *ending on position $j+1$*, $C[j+1]$. Well, *A[j+1]* must be included in the sum. Is it possible to produce a sum larger than $A[j+1]$ by including previous numbers? If we do, the maximum possible contribution of this set of \"previous numbers\" is exactly $C[j]$. Therefore these numbers should be included only if $C[j] > 0$."
   ]
  },
  {
   "cell_type": "code",
   "execution_count": 1,
   "metadata": {
    "collapsed": true
   },
   "outputs": [],
   "source": [
    "#Now some code that includes a dollar sign\n",
    "\n",
    "# $"
   ]
  },
  {
   "cell_type": "markdown",
   "metadata": {},
   "source": [
    "Some text that is *italicized $j$*..."
   ]
  },
  {
   "cell_type": "markdown",
   "metadata": {},
   "source": [
    "or **bold $j$**."
   ]
  },
  {
   "cell_type": "markdown",
   "metadata": {},
   "source": [
    "$i < n$."
   ]
  },
  {
   "cell_type": "markdown",
   "metadata": {},
   "source": [
    "A LATEX number $1$ followed by some *italicized* words. More *italicized* words."
   ]
  },
  {
   "cell_type": "markdown",
   "metadata": {},
   "source": [
    "$n$. Furthermore, suppose we knew the maximum possible sum of a contiguous set of numbers *ending on position $j$*. We can denote this as $C[j]$."
   ]
  },
  {
   "cell_type": "markdown",
   "metadata": {},
   "source": [
    "$n$. Furthermore, suppose we knew the maximum possible sum of a contiguous set of numbers *ending on position*. We can denote this as $C[j]$."
   ]
  },
  {
   "cell_type": "markdown",
   "metadata": {},
   "source": [
    "Suppose we isolate a left portion of the set $A$ between positions $0$ and some $j$ < $n$. Furthermore, suppose we knew the maximum possible sum of a contiguous set of numbers *ending on position $j$*. We can denote this as $C[j]$. And now we want to know what is the largest possible sum of contiguous numbers *ending on position $j+1$*, $C[j+1]$. Well, *A[j+1]* must be included in the sum. Is it possible to produce a sum larger than $A[j+1]$ by including previous numbers? If we do, the maximum possible contribution of this set of \"previous numbers\" is exactly $C[j]$. Therefore these numbers should be included only if $C[j] > 0$."
   ]
  },
  {
   "cell_type": "markdown",
   "metadata": {},
   "source": [
    "Suppose we isolate a left portion of the set $A$ between positions $0$ and some $j$ < $n$. Furthermore, suppose we knew the maximum possible sum of a contiguous set of numbers *ending on position $j$*. We can denote this as $C[j]$."
   ]
  },
  {
   "cell_type": "markdown",
   "metadata": {},
   "source": [
    "$j$ < $n$. Furthermore, suppose we knew the maximum possible sum of a contiguous set of numbers *ending on position $j$*. We can denote this as $C[j]$."
   ]
  },
  {
   "cell_type": "markdown",
   "metadata": {},
   "source": [
    "< $n$. Furthermore, suppose we knew the maximum possible sum of a contiguous set of numbers *ending on position $j$*. We can denote this as $C[j]$."
   ]
  },
  {
   "cell_type": "markdown",
   "metadata": {},
   "source": [
    "< . Furthermore, suppose we knew the maximum possible sum of a contiguous set of numbers *ending on position $j$*. We can denote this as $C[j]$."
   ]
  },
  {
   "cell_type": "markdown",
   "metadata": {},
   "source": [
    "$n$. Furthermore, suppose we knew the maximum possible sum of a contiguous set of numbers *ending on position $j$*. We can denote this as $C[j]$."
   ]
  },
  {
   "cell_type": "markdown",
   "metadata": {},
   "source": [
    "Furthermore, suppose we knew the maximum possible sum of a contiguous set of numbers *ending on position $j$*. We can denote this as $C[j]$."
   ]
  },
  {
   "cell_type": "markdown",
   "metadata": {},
   "source": [
    "Suppose we isolate a left portion of the set $A$ between positions $0$ and some $j$ < $n$. Furthermore, suppose we knew the maximum possible sum of a contiguous set of numbers *ending on position $j$*. We can denote this as"
   ]
  },
  {
   "cell_type": "markdown",
   "metadata": {},
   "source": [
    "Suppose we isolate a left portion of the set $A$ between positions $0$ and some $j$ < $n$. Furthermore, suppose we knew the maximum possible sum of a contiguous set of numbers *ending on position $j$*."
   ]
  },
  {
   "cell_type": "code",
   "execution_count": 2,
   "metadata": {
    "collapsed": true
   },
   "outputs": [],
   "source": [
    "#Now another dollar sign\n",
    "\n",
    "# $"
   ]
  },
  {
   "cell_type": "markdown",
   "metadata": {},
   "source": [
    "Some text that is *italicized $j$*..."
   ]
  },
  {
   "cell_type": "markdown",
   "metadata": {},
   "source": [
    "or **bold $j$**."
   ]
  },
  {
   "cell_type": "markdown",
   "metadata": {},
   "source": [
    "$i < n$."
   ]
  },
  {
   "cell_type": "markdown",
   "metadata": {},
   "source": [
    "Suppose we isolate a left portion of the set $A$ between positions $0$ and some $j$ < $n$. Furthermore, suppose we knew the maximum possible sum of a contiguous set of numbers *ending on position $j$*. We can denote this as $C[j]$. And now we want to know what is the largest possible sum of contiguous numbers *ending on position $j+1$*, $C[j+1]$. Well, *A[j+1]* must be included in the sum. Is it possible to produce a sum larger than $A[j+1]$ by including previous numbers? If we do, the maximum possible contribution of this set of \"previous numbers\" is exactly $C[j]$. Therefore these numbers should be included only if $C[j] > 0$."
   ]
  }
 ],
 "metadata": {
  "kernelspec": {
   "display_name": "Python 3",
   "language": "python",
   "name": "python3"
  },
  "language_info": {
   "codemirror_mode": {
    "name": "ipython",
    "version": 3
   },
   "file_extension": ".py",
   "mimetype": "text/x-python",
   "name": "python",
   "nbconvert_exporter": "python",
   "pygments_lexer": "ipython3",
   "version": "3.5.1"
  }
 },
 "nbformat": 4,
 "nbformat_minor": 0
}
